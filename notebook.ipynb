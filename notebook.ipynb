{
  "cells": [
    {
      "cell_type": "markdown",
      "source": [
        "# Transport and Logistics Analysis Notebook\n",
        "\n",
        "This notebook analyzes various aspects of a transport and logistics company's operations using the `TransportAndLogistics` database schema. Each section corresponds to a specific category of questions, with SQL queries and Python visualizations to derive insights."
      ],
      "metadata": {}
    },
    {
      "cell_type": "code",
      "execution_count": null,
      "metadata": {},
      "outputs": [],
      "source": [
        "# Import necessary libraries\n",
        "import pandas as pd\n",
        "import matplotlib.pyplot as plt\n",
        "import seaborn as sns\n",
        "from sqlalchemy import create_engine\n",
        "\n",
        "# Database connection setup (replace with actual credentials)\n",
        "db_username = \"your_username\"\n",
        "db_password = \"your_password\"\n",
        "db_host = \"localhost\"\n",
        "db_port = \"3306\"\n",
        "db_name = \"TransportAndLogistics\"\n",
        "\n",
        "connection_string = f\"mysql+pymysql://{db_username}:{db_password}@{db_host}:{db_port}/{db_name}\"\n",
        "engine = create_engine(connection_string)\n",
        "\n",
        "# Helper function to execute SQL queries\n",
        "def execute_query(query):\n",
        "    with engine.connect() as conn:\n",
        "        return pd.read_sql(query, conn)"
      ]
    },
    {
      "cell_type": "markdown",
      "source": [
        "## Section 1: Delivery Performance Analysis"
      ],
      "metadata": {}
    },
    {
      "cell_type": "markdown",
      "source": [
        "### Question 1: Average delivery time for shipments across different regions"
      ],
      "metadata": {}
    },
    {
      "cell_type": "code",
      "execution_count": null,
      "metadata": {},
      "outputs": [],
      "source": [
        "query_avg_delivery_time = \"\"\"\n",
        "SELECT \n",
        "    s.RouteID,\n",
        "    r.OriginCity,\n",
        "    r.DestinationCity,\n",
        "    AVG(DATEDIFF(s.DeliveryDate, s.ShipmentDate)) AS AvgDeliveryTime\n",
        "FROM Shipments s\n",
        "JOIN Routes r ON s.RouteID = r.RouteID\n",
        "WHERE s.Status = 'Delivered'\n",
        "GROUP BY s.RouteID, r.OriginCity, r.DestinationCity;\n",
        "\"\"\"\n",
        "avg_delivery_time = execute_query(query_avg_delivery_time)\n",
        "\n",
        "# Visualization\n",
        "plt.figure(figsize=(10, 6))\n",
        "sns.barplot(x=\"AvgDeliveryTime\", y=\"DestinationCity\", data=avg_delivery_time.sort_values(by=\"AvgDeliveryTime\", ascending=False))\n",
        "plt.title(\"Average Delivery Time by Destination City\")\n",
        "plt.xlabel(\"Average Delivery Time (Days)\")\n",
        "plt.ylabel(\"Destination City\")\n",
        "plt.show()"
      ]
    },
    {
      "cell_type": "markdown",
      "source": [
        "### Question 2: Routes experiencing the most delays and contributing factors"
      ],
      "metadata": {}
    },
    {
      "cell_type": "code",
      "execution_count": null,
      "metadata": {},
      "outputs": [],
      "source": [
        "query_delayed_routes = \"\"\"\n",
        "SELECT \n",
        "    s.RouteID,\n",
        "    r.OriginCity,\n",
        "    r.DestinationCity,\n",
        "    COUNT(*) AS DelayCount\n",
        "FROM Shipments s\n",
        "JOIN Routes r ON s.RouteID = r.RouteID\n",
        "WHERE DATEDIFF(s.DeliveryDate, s.ShipmentDate) > r.EstimatedDuration\n",
        "GROUP BY s.RouteID, r.OriginCity, r.DestinationCity\n",
        "ORDER BY DelayCount DESC\n",
        "LIMIT 10;\n",
        "\"\"\"\n",
        "delayed_routes = execute_query(query_delayed_routes)\n",
        "\n",
        "# Visualization\n",
        "plt.figure(figsize=(10, 6))\n",
        "sns.barplot(x=\"DelayCount\", y=\"DestinationCity\", data=delayed_routes)\n",
        "plt.title(\"Top Routes with Most Delays\")\n",
        "plt.xlabel(\"Number of Delays\")\n",
        "plt.ylabel(\"Destination City\")\n",
        "plt.show()"
      ]
    },
    {
      "cell_type": "markdown",
      "source": [
        "### Question 3: On-time delivery percentage"
      ],
      "metadata": {}
    },
    {
      "cell_type": "code",
      "execution_count": null,
      "metadata": {},
      "outputs": [],
      "source": [
        "query_on_time_delivery = \"\"\"\n",
        "SELECT \n",
        "    MONTH(s.ShipmentDate) AS Month,\n",
        "    COUNT(CASE WHEN DATEDIFF(s.DeliveryDate, s.ShipmentDate) <= r.EstimatedDuration THEN 1 END) * 100.0 / COUNT(*) AS OnTimePercentage\n",
        "FROM Shipments s\n",
        "JOIN Routes r ON s.RouteID = r.RouteID\n",
        "GROUP BY MONTH(s.ShipmentDate)\n",
        "ORDER BY Month;\n",
        "\"\"\"\n",
        "on_time_delivery = execute_query(query_on_time_delivery)\n",
        "\n",
        "# Visualization\n",
        "plt.figure(figsize=(10, 6))\n",
        "sns.lineplot(x=\"Month\", y=\"OnTimePercentage\", data=on_time_delivery, marker='o')\n",
        "plt.title(\"On-Time Delivery Percentage by Month\")\n",
        "plt.xlabel(\"Month\")\n",
        "plt.ylabel(\"On-Time Delivery Percentage (%)\")\n",
        "plt.xticks(ticks=range(1, 13), labels=[\"Jan\", \"Feb\", \"Mar\", \"Apr\", \"May\", \"Jun\", \"Jul\", \"Aug\", \"Sep\", \"Oct\", \"Nov\", \"Dec\"])\n",
        "plt.show()"
      ]
    },
    {
      "cell_type": "markdown",
      "source": [
        "### Question 4: Seasonal patterns in delivery delays"
      ],
      "metadata": {}
    },
    {
      "cell_type": "code",
      "execution_count": null,
      "metadata": {},
      "outputs": [],
      "source": [
        "query_seasonal_delays = \"\"\"\n",
        "SELECT \n",
        "    MONTH(s.ShipmentDate) AS Month,\n",
        "    COUNT(*) AS DelayCount\n",
        "FROM Shipments s\n",
        "JOIN Routes r ON s.RouteID = r.RouteID\n",
        "WHERE DATEDIFF(s.DeliveryDate, s.ShipmentDate) > r.EstimatedDuration\n",
        "GROUP BY MONTH(s.ShipmentDate)\n",
        "ORDER BY Month;\n",
        "\"\"\"\n",
        "seasonal_delays = execute_query(query_seasonal_delays)\n",
        "\n",
        "# Visualization\n",
        "plt.figure(figsize=(10, 6))\n",
        "sns.barplot(x=\"Month\", y=\"DelayCount\", data=seasonal_delays)\n",
        "plt.title(\"Seasonal Patterns in Delivery Delays\")\n",
        "plt.xlabel(\"Month\")\n",
        "plt.ylabel(\"Number of Delays\")\n",
        "plt.xticks(ticks=range(1, 13), labels=[\"Jan\", \"Feb\", \"Mar\", \"Apr\", \"May\", \"Jun\", \"Jul\", \"Aug\", \"Sep\", \"Oct\", \"Nov\", \"Dec\"])\n",
        "plt.show()"
      ]
    },
    {
      "cell_type": "markdown",
      "source": [
        "## Section 2: Fleet Management and Resource Optimization"
      ],
      "metadata": {}
    },
    {
      "cell_type": "markdown",
      "source": [
        "### Question 1: Underutilized vs overused vehicles"
      ],
      "metadata": {}
    },
    {
      "cell_type": "code",
      "execution_count": null,
      "metadata": {},
      "outputs": [],
      "source": [
        "query_vehicle_utilization = \"\"\"\n",
        "SELECT \n",
        "    v.VehicleID,\n",
        "    v.VehicleType,\n",
        "    COUNT(s.ShipmentID) AS ShipmentCount\n",
        "FROM Vehicles v\n",
        "LEFT JOIN Shipments s ON v.VehicleID = s.VehicleID\n",
        "GROUP BY v.VehicleID, v.VehicleType;\n",
        "\"\"\"\n",
        "vehicle_utilization = execute_query(query_vehicle_utilization)\n",
        "\n",
        "# Visualization\n",
        "plt.figure(figsize=(10, 6))\n",
        "sns.barplot(x=\"ShipmentCount\", y=\"VehicleType\", data=vehicle_utilization.sort_values(by=\"ShipmentCount\", ascending=False))\n",
        "plt.title(\"Vehicle Utilization by Type\")\n",
        "plt.xlabel(\"Number of Shipments\")\n",
        "plt.ylabel(\"Vehicle Type\")\n",
        "plt.show()"
      ]
    },
    {
      "cell_type": "markdown",
      "source": [
        "### Question 2: Fuel consumption rate per vehicle type"
      ],
      "metadata": {}
    },
    {
      "cell_type": "code",
      "execution_count": null,
      "metadata": {},
      "outputs": [],
      "source": [
        "query_fuel_consumption = \"\"\"\n",
        "SELECT \n",
        "    v.VehicleType,\n",
        "    AVG(fc.FuelFilled / r.Distance) AS FuelConsumptionRate\n",
        "FROM Vehicles v\n",
        "JOIN FuelConsumptionRecords fc ON v.VehicleID = fc.VehicleID\n",
        "JOIN Routes r ON v.VehicleID = r.RouteID\n",
        "GROUP BY v.VehicleType;\n",
        "\"\"\"\n",
        "fuel_consumption = execute_query(query_fuel_consumption)\n",
        "\n",
        "# Visualization\n",
        "plt.figure(figsize=(10, 6))\n",
        "sns.barplot(x=\"VehicleType\", y=\"FuelConsumptionRate\", data=fuel_consumption)\n",
        "plt.title(\"Fuel Consumption Rate by Vehicle Type\")\n",
        "plt.xlabel(\"Vehicle Type\")\n",
        "plt.ylabel(\"Fuel Consumption Rate (Liters per Kilometer)\")\n",
        "plt.show()"
      ]
    },
    {
      "cell_type": "markdown",
      "source": [
        "## Section 3: Product Category Analysis"
      ],
      "metadata": {}
    },
    {
      "cell_type": "markdown",
      "source": [
        "### Question 1: Contribution to delivery volume and revenue"
      ],
      "metadata": {}
    },
    {
      "cell_type": "code",
      "execution_count": null,
      "metadata": {},
      "outputs": [],
      "source": [
        "query_product_contribution = \"\"\"\n",
        "SELECT \n",
        "    s.Description AS ProductCategory,\n",
        "    COUNT(*) AS ShipmentCount,\n",
        "    SUM(i.TotalAmount) AS Revenue\n",
        "FROM Shipments s\n",
        "JOIN Invoices i ON s.ShipmentID = i.ShipmentID\n",
        "GROUP BY s.Description\n",
        "ORDER BY Revenue DESC\n",
        "LIMIT 10;\n",
        "\"\"\"\n",
        "product_contribution = execute_query(query_product_contribution)\n",
        "\n",
        "# Visualization\n",
        "plt.figure(figsize=(10, 6))\n",
        "sns.barplot(x=\"Revenue\", y=\"ProductCategory\", data=product_contribution)\n",
        "plt.title(\"Top Product Categories by Revenue\")\n",
        "plt.xlabel(\"Revenue\")\n",
        "plt.ylabel(\"Product Category\")\n",
        "plt.show()"
      ]
    },
    {
      "cell_type": "markdown",
      "source": [
        "## Section 4: Customer Satisfaction and Retention"
      ],
      "metadata": {}
    },
    {
      "cell_type": "markdown",
      "source": [
        "### Question 1: Top reasons for customer complaints"
      ],
      "metadata": {}
    },
    {
      "cell_type": "code",
      "execution_count": null,
      "metadata": {},
      "outputs": [],
      "source": [
        "query_customer_complaints = \"\"\"\n",
        "SELECT \n",
        "    c.CustomerID,\n",
        "    COUNT(*) AS ComplaintCount\n",
        "FROM Customers c\n",
        "JOIN Shipments s ON c.CustomerID = s.CustomerID\n",
        "WHERE s.Status = 'Cancelled' OR s.Description LIKE '%complaint%'\n",
        "GROUP BY c.CustomerID\n",
        "ORDER BY ComplaintCount DESC\n",
        "LIMIT 10;\n",
        "\"\"\"\n",
        "customer_complaints = execute_query(query_customer_complaints)\n",
        "\n",
        "# Visualization\n",
        "plt.figure(figsize=(10, 6))\n",
        "sns.barplot(x=\"ComplaintCount\", y=\"CustomerID\", data=customer_complaints)\n",
        "plt.title(\"Top Customers with Most Complaints\")\n",
        "plt.xlabel(\"Number of Complaints\")\n",
        "plt.ylabel(\"Customer ID\")\n",
        "plt.show()"
      ]
    },
    {
      "cell_type": "markdown",
      "source": [
        "## Section 5: Cost Optimization"
      ],
      "metadata": {}
    },
    {
      "cell_type": "markdown",
      "source": [
        "### Question 1: Main cost drivers"
      ],
      "metadata": {}
    },
    {
      "cell_type": "code",
      "execution_count": null,
      "metadata": {},
      "outputs": [],
      "source": [
        "query_cost_drivers = \"\"\"\n",
        "SELECT \n",
        "    SUM(fc.Cost) AS FuelCost,\n",
        "    SUM(m.Cost) AS MaintenanceCost\n",
        "FROM FuelConsumptionRecords fc\n",
        "JOIN MaintenanceRecords m ON fc.VehicleID = m.VehicleID;\n",
        "\"\"\"\n",
        "cost_drivers = execute_query(query_cost_drivers)\n",
        "\n",
        "# Visualization\n",
        "cost_data = cost_drivers.melt(var_name=\"CostType\", value_name=\"Cost\")\n",
        "plt.figure(figsize=(8, 6))\n",
        "sns.barplot(x=\"CostType\", y=\"Cost\", data=cost_data)\n",
        "plt.title(\"Main Cost Drivers\")\n",
        "plt.xlabel(\"Cost Type\")\n",
        "plt.ylabel(\"Total Cost\")\n",
        "plt.show()"
      ]
    }
  ],
  "metadata": {
    "kernelspec": {
      "display_name": "Python 3",
      "language": "python",
      "name": "python3"
    },
    "language_info": {
      "codemirror_mode": {
        "name": "ipython",
        "version": 3
      },
      "file_extension": ".py",
      "mimetype": "text/x-python",
      "name": "python",
      "nbconvert_exporter": "python",
      "pygments_lexer": "ipython3",
      "version": "3.8.10"
    }
  },
  "nbformat": 4,
  "nbformat_minor": 4
}